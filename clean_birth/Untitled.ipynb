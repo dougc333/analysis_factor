{
 "cells": [
  {
   "cell_type": "code",
   "execution_count": 3,
   "id": "d34d1401",
   "metadata": {},
   "outputs": [
    {
     "name": "stdout",
     "output_type": "stream",
     "text": [
      "7381\n",
      "line num: 1000000 :         201410    08256        11                1                        24083    1                   2011011    011 Y2  13 1                    3105011011   0113 1     010000  2  2               11008   88888   11008     0512          08  051      Y10202020211111111Y1         62132.64    1781   196 11821     NNYNNN111111NXX111N00 1101    NNNNN111111      NN 11                  NNNNNY1111110     14N111321     NNNNN 11111 1     1N1101     0941885   2    1               M 01  2014     38062    370622552 063     NNNNNN 111111 1     NNNNNN111111NNNNNN1111111     NYY1                                                                                                                                                                                                                                                                                                                                                                                                                                                                                                                                                                                                                                                                                                                                                                                       121222222 222222\n",
      "\n",
      "line num: 2000000 :         201401    16046        11                1                        24083    1                   2011011    011 X1  12 1                    2604011011   0112 1     020000  3  3               04105   88888   04105     9915          99  121      Y12010101032221111Y1         64122.32    1301   158 12831     NNNNNN111111NXX111N00 1111    NNNNN111111      NN 11                  NNNYNY1111110     14N111321     NNNNN 11111 1     1N1101     0941885   1    9               M 99  9999    138062    380622608 063     NNNNNN 111111 1     NNNNNN111111NNNNNN1111111     NYY1                                                                                                                                                                                                                                                                                                                                                                                                                                                                                                                                                                                                                                                                                                                                                                                       122222222 222222\n",
      "\n",
      "line num: 3000000 :         201407    20397        11                1                        34105    1                   2022022    012 Y2  14 1                    2804022022   0124 1     020003  3  6               03204   05406   03204     0211          14  081      N10000000000001111N1         63127.83    1571   179 12231     NNNNNN111101NXX100N00 1110    NNYNN111110      NN 11                  NYNNNY1111110     11X111111     NNNNN 11111 1     1N2211     0941885   1    9               F 10  2013     39072    390723080 073     NNNNNN 111111 1     NNNNNN111111NNNNNN1111111     NYY1                                                                                                                                                                                                                                                                                                                                                                                                                                                                                                                                                                                                                                                                                                                                                                                       122222222 222222\n",
      "\n"
     ]
    }
   ],
   "source": [
    "import re\n",
    "import os\n",
    "from os import getpid\n",
    "import json\n",
    "print(getpid())\n",
    "\n",
    "DATA_STORE_DIR = \"/dataprocessing\"\n",
    "\n",
    "def create_dir():\n",
    "    if not os.path.exists(os.path.join(os.getcwd(),DATA_STORE_DIR)):\n",
    "        print(\"create not exist DATASTORE_DIR\")\n",
    "    else:\n",
    "        os.mkdir(os.path.join(os.getcwd(),DATA_STORE_DIR))\n",
    "        print(\"creatign DATASTORE_DIR\")\n",
    "    \n",
    "    \n",
    "RE = re.compile(' +')\n",
    "data={}\n",
    "with open(\"/Users/dc/Desktop/downloaded/Nat2014PublicUS.c20150514.r20151022.txt\") as fh:\n",
    "    num_line = 0\n",
    "    for line in fh:\n",
    "        num_line+=1\n",
    "        #print(\"line num:\",num_line,\":\", line)\n",
    "        findMe = re.finditer(RE, line)\n",
    "        foo = [(x.start(0), x.end(0)) for x in findMe ]\n",
    "        #print(foo)\n",
    "        data[num_line]=foo\n",
    "        if num_line%1000000==0:\n",
    "            print(\"line num:\",num_line,\":\", line)\n",
    "            f = open(os.path.join(os.getcwd(),\"{0}.txt\".format(str(num_line))),\"w\")\n",
    "            f.write(json.dumps(data))\n",
    "            f.close()\n",
    "            data={}\n",
    "    f = open(os.path.join(os.getcwd(),\"last.txt\"),\"w\")\n",
    "    f.write(json.dumps(data))\n",
    "    f.close()\n",
    "fh.close()\n",
    "\n",
    "\n",
    "    "
   ]
  },
  {
   "cell_type": "code",
   "execution_count": null,
   "id": "cfd31548",
   "metadata": {},
   "outputs": [],
   "source": []
  }
 ],
 "metadata": {
  "kernelspec": {
   "display_name": "Python 3",
   "language": "python",
   "name": "python3"
  },
  "language_info": {
   "codemirror_mode": {
    "name": "ipython",
    "version": 3
   },
   "file_extension": ".py",
   "mimetype": "text/x-python",
   "name": "python",
   "nbconvert_exporter": "python",
   "pygments_lexer": "ipython3",
   "version": "3.10.0"
  },
  "vscode": {
   "interpreter": {
    "hash": "aee8b7b246df8f9039afb4144a1f6fd8d2ca17a180786b69acc140d282b71a49"
   }
  }
 },
 "nbformat": 4,
 "nbformat_minor": 5
}
