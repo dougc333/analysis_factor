{
 "cells": [
  {
   "cell_type": "code",
   "execution_count": 1,
   "id": "d34d1401",
   "metadata": {},
   "outputs": [
    {
     "name": "stdout",
     "output_type": "stream",
     "text": [
      "6655\n"
     ]
    },
    {
     "ename": "KeyboardInterrupt",
     "evalue": "",
     "output_type": "error",
     "traceback": [
      "\u001b[0;31m---------------------------------------------------------------------------\u001b[0m",
      "\u001b[0;31mKeyboardInterrupt\u001b[0m                         Traceback (most recent call last)",
      "Cell \u001b[0;32mIn[1], line 25\u001b[0m\n\u001b[1;32m     23\u001b[0m \u001b[38;5;66;03m#print(\"line num:\",num_line,\":\", line)\u001b[39;00m\n\u001b[1;32m     24\u001b[0m findMe \u001b[38;5;241m=\u001b[39m re\u001b[38;5;241m.\u001b[39mfinditer(RE, line)\n\u001b[0;32m---> 25\u001b[0m foo \u001b[38;5;241m=\u001b[39m [(x\u001b[38;5;241m.\u001b[39mstart(\u001b[38;5;241m0\u001b[39m), x\u001b[38;5;241m.\u001b[39mend(\u001b[38;5;241m0\u001b[39m)) \u001b[38;5;28;01mfor\u001b[39;00m x \u001b[38;5;129;01min\u001b[39;00m findMe ]\n\u001b[1;32m     26\u001b[0m \u001b[38;5;66;03m#print(foo)\u001b[39;00m\n\u001b[1;32m     27\u001b[0m data[num_line]\u001b[38;5;241m=\u001b[39mfoo\n",
      "Cell \u001b[0;32mIn[1], line 25\u001b[0m, in \u001b[0;36m<listcomp>\u001b[0;34m(.0)\u001b[0m\n\u001b[1;32m     23\u001b[0m \u001b[38;5;66;03m#print(\"line num:\",num_line,\":\", line)\u001b[39;00m\n\u001b[1;32m     24\u001b[0m findMe \u001b[38;5;241m=\u001b[39m re\u001b[38;5;241m.\u001b[39mfinditer(RE, line)\n\u001b[0;32m---> 25\u001b[0m foo \u001b[38;5;241m=\u001b[39m [(x\u001b[38;5;241m.\u001b[39mstart(\u001b[38;5;241m0\u001b[39m), x\u001b[38;5;241m.\u001b[39mend(\u001b[38;5;241m0\u001b[39m)) \u001b[38;5;28;01mfor\u001b[39;00m x \u001b[38;5;129;01min\u001b[39;00m findMe ]\n\u001b[1;32m     26\u001b[0m \u001b[38;5;66;03m#print(foo)\u001b[39;00m\n\u001b[1;32m     27\u001b[0m data[num_line]\u001b[38;5;241m=\u001b[39mfoo\n",
      "\u001b[0;31mKeyboardInterrupt\u001b[0m: "
     ]
    }
   ],
   "source": [
    "import re\n",
    "import os\n",
    "from os import getpid\n",
    "import json\n",
    "print(getpid())\n",
    "\n",
    "DATA_STORE_DIR = \"/dataprocessing\"\n",
    "\n",
    "def create_dir():\n",
    "    if not os.path.exists(os.path.join(os.getcwd(),DATA_STORE_DIR)):\n",
    "        print(\"create not exist DATASTORE_DIR\")\n",
    "    else:\n",
    "        os.mkdir(os.path.join(os.getcwd(),DATA_STORE_DIR))\n",
    "        print(\"creatign DATASTORE_DIR\")\n",
    "    \n",
    "\n",
    "RE = re.compile(' +')\n",
    "data={}\n",
    "with open(\"/Users/dc/Desktop/downloaded/Nat2014PublicUS.c20150514.r20151022.txt\") as fh:\n",
    "    num_line = 0\n",
    "    for line in fh:\n",
    "        num_line+=1\n",
    "        #print(\"line num:\",num_line,\":\", line)\n",
    "        findMe = re.finditer(RE, line)\n",
    "        foo = [(x.start(0), x.end(0)) for x in findMe ]\n",
    "        #print(foo)\n",
    "        data[num_line]=foo\n",
    "        if num_line%3000000==0:\n",
    "            print(\"line num:\",num_line,\":\", line)\n",
    "            f = open(os.path.join(os.getcwd(),\"{0}.txt\".format(str(num_line))),\"w\")\n",
    "            f.write(json.dumps(data))\n",
    "            f.close()\n",
    "            data={}\n",
    "    f = open(os.path.join(os.getcwd(),\"last.txt\"),\"w\")\n",
    "    f.write(json.dumps(data))\n",
    "    f.close()\n",
    "fh.close()\n",
    "\n",
    "\n",
    "    "
   ]
  },
  {
   "cell_type": "code",
   "execution_count": null,
   "id": "cfd31548",
   "metadata": {},
   "outputs": [],
   "source": []
  }
 ],
 "metadata": {
  "kernelspec": {
   "display_name": "Python 3 (ipykernel)",
   "language": "python",
   "name": "python3"
  },
  "language_info": {
   "codemirror_mode": {
    "name": "ipython",
    "version": 3
   },
   "file_extension": ".py",
   "mimetype": "text/x-python",
   "name": "python",
   "nbconvert_exporter": "python",
   "pygments_lexer": "ipython3",
   "version": "3.8.16"
  },
  "vscode": {
   "interpreter": {
    "hash": "aee8b7b246df8f9039afb4144a1f6fd8d2ca17a180786b69acc140d282b71a49"
   }
  }
 },
 "nbformat": 4,
 "nbformat_minor": 5
}
