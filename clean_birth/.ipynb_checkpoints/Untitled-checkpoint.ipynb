{
 "cells": [
  {
   "cell_type": "code",
   "execution_count": null,
   "id": "d34d1401",
   "metadata": {},
   "outputs": [
    {
     "name": "stdout",
     "output_type": "stream",
     "text": [
      "43465\n"
     ]
    }
   ],
   "source": [
    "import re\n",
    "from os import getpid\n",
    "import json\n",
    "print(getpid())\n",
    "\n",
    "RE = re.compile(' +')\n",
    "data={}\n",
    "with open(\"/Users/dc/Desktop/downloaded/Nat2014PublicUS.c20150514.r20151022.txt\") as fh:\n",
    "    num_line = 0\n",
    "    for line in fh:\n",
    "        num_line+=1\n",
    "        #print(\"line num:\",num_line,\":\", line)\n",
    "        findMe = re.finditer(RE, line)\n",
    "        foo = [(x.start(0), x.end(0)) for x in findMe ]\n",
    "        #print(foo)\n",
    "        data[num_line]=foo\n",
    "        if num_line%1000000==0:\n",
    "            print(\"line num:\",num_line,\":\", line)\n",
    "            f = open(\"{0}.txt\".format(str(num_line)),\"w\")\n",
    "            f.write(json.dumps(data))\n",
    "            f.close()\n",
    "            data={}\n",
    "fh.close()\n",
    "\n",
    "\n",
    "    "
   ]
  },
  {
   "cell_type": "code",
   "execution_count": null,
   "id": "cfd31548",
   "metadata": {},
   "outputs": [],
   "source": []
  }
 ],
 "metadata": {
  "kernelspec": {
   "display_name": "Python 3 (ipykernel)",
   "language": "python",
   "name": "python3"
  },
  "language_info": {
   "codemirror_mode": {
    "name": "ipython",
    "version": 3
   },
   "file_extension": ".py",
   "mimetype": "text/x-python",
   "name": "python",
   "nbconvert_exporter": "python",
   "pygments_lexer": "ipython3",
   "version": "3.8.16"
  }
 },
 "nbformat": 4,
 "nbformat_minor": 5
}
