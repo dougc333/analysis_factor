{
 "cells": [
  {
   "cell_type": "code",
   "execution_count": 6,
   "id": "31c93e27",
   "metadata": {},
   "outputs": [],
   "source": [
    "import pandas as pd\n",
    "import numpy as np\n"
   ]
  },
  {
   "cell_type": "code",
   "execution_count": 7,
   "id": "cbd2d15f",
   "metadata": {},
   "outputs": [],
   "source": [
    "t = pd.read_csv(\"/Users/dc/Desktop/downloaded/Nat2014PublicUS.c20150514.r20151022.txt\")\n"
   ]
  },
  {
   "cell_type": "code",
   "execution_count": 59,
   "id": "72a7e875",
   "metadata": {},
   "outputs": [
    {
     "name": "stdout",
     "output_type": "stream",
     "text": [
      "2014 2014 2014\n"
     ]
    }
   ],
   "source": [
    "DOB_YY1=t.iloc[0][0][8:12]\n",
    "DOB_YY2=t.iloc[1][0][8:12]\n",
    "DOB_YY3=t.iloc[2][0][8:12]\n",
    "print(DOB_YY1,DOB_YY2,DOB_YY3)"
   ]
  },
  {
   "cell_type": "code",
   "execution_count": 47,
   "id": "8dbe8360",
   "metadata": {},
   "outputs": [
    {
     "ename": "SyntaxError",
     "evalue": "invalid syntax (3221399349.py, line 82)",
     "output_type": "error",
     "traceback": [
      "\u001b[0;36m  Cell \u001b[0;32mIn[47], line 82\u001b[0;36m\u001b[0m\n\u001b[0;31m    FAGEREC11=t.iloc[,][0][148:150]\u001b[0m\n\u001b[0m                     ^\u001b[0m\n\u001b[0;31mSyntaxError\u001b[0m\u001b[0;31m:\u001b[0m invalid syntax\n"
     ]
    }
   ],
   "source": [
    "t.shape\n",
    "type(t.iloc[0])\n",
    "print(t.iloc[0])\n",
    "print(\"----\")\n",
    "print(type(t.iloc[0][0]))\n",
    "print(len(t.iloc[0][0]))\n",
    "print(type(t.iloc[0][0][0:7]))\n",
    "filler=t.iloc[0][0][0:8]\n",
    "print(\"filler\",len(filler))\n",
    "DOB_YY=t.iloc[0][0][8:12]\n",
    "DOB_MM=t.iloc[0][0][12:14]\n",
    "FILLER=t.iloc[0][0][14:18]\n",
    "\n",
    "DOB_TT=t.iloc[0][0][18:22]\n",
    "DOB_WK=t.iloc[0][0][22:23]\n",
    "FILLER=t.iloc[0][0][23:31]\n",
    "BFACIL=t.iloc[0][0][31:32]\n",
    "\n",
    "F_FACILITY=t.iloc[0][0][32:33]\n",
    "\n",
    "FILLER=t.iloc[0][0][33:49]\n",
    "\n",
    "BFACIL3=t.iloc[0][0][49:50]\n",
    "\n",
    "FILLER_B=t.iloc[0][0][50:72]\n",
    "\n",
    "MAGE_IMPFLG=t.iloc[0][0][72:73]\n",
    "\n",
    "MAGE_REPFLG=t.iloc[0][0][73:74]\n",
    "\n",
    "MAGER=t.iloc[0][0][74:76]\n",
    "\n",
    "MAGER14=t.iloc[0][0][76:78]\n",
    "\n",
    "MAGER9=t.iloc[0][0][78:79]\n",
    "\n",
    "FILLER=t.iloc[0][0][79:83]\n",
    "\n",
    "MBSTATE_REC=t.iloc[0][0][83:84]\n",
    "\n",
    "FILLER<=t.iloc[0][0][84:103]\n",
    "\n",
    "RESTATUS=t.iloc[0][0][103:104]\n",
    "\n",
    "MRACE31=t.iloc[0][0][104:106]\n",
    "\n",
    "MRACE6=t.iloc[0][0][106:107]\n",
    "\n",
    "MRACE15=t.iloc[0][0][107:109]\n",
    "\n",
    "MBRACE=t.iloc[0][0][109:110]\n",
    "\n",
    "MRACEIMP=t.iloc[0][0][110:111]\n",
    "\n",
    "FILLER=t.iloc[0][0][111:114]\n",
    "\n",
    "MHISP_R=t.iloc[0][0][114:115]\n",
    "\n",
    "F_MHISP=t.iloc[0][0][115:116]\n",
    "\n",
    "MRACEHISP=t.iloc[0][0][116:117]\n",
    "\n",
    "FILLER=t.iloc[0][0][117:118]\n",
    "\n",
    "MAR_P=t.iloc[0][0][118:119]\n",
    "\n",
    "DMAR=t.iloc[0][0][119:120]\n",
    "\n",
    "MAR_IMP=t.iloc[0][0][120:121]\n",
    "\n",
    "FILLER=t.iloc[0][0][121:122]\n",
    "\n",
    "F_MAR_P=t.iloc[0][0][122:123]\n",
    "\n",
    "MEDUC=t.iloc[0][0][123:124]\n",
    "FILLER=t.iloc[0][0][124:125]\n",
    "F_MEDUC=t.iloc[0][0][125:126]\n",
    "FILLER_M=t.iloc[0][0][126:141]\n",
    "FAGERPT_FLG=t.iloc[0][0][141:142]\n",
    "FILLER=t.iloc[0][0][142:146]\n",
    "FAGECOMB=t.iloc[0][0][146:148]\n",
    "FAGEREC11=t.iloc[0][0][148:150]\n",
    "print(\"FAGEREC11\",FAGEREC11)\n",
    "\"\"\"\n",
    "FRACE31=t.iloc[0][0][118:119]\n",
    "FRACE6=t.iloc[0][0][118:119]\n",
    "FRACE15=t.iloc[0][0][118:119]\n",
    "FBRACE=t.iloc[0][0][118:119]\n",
    "FILLER=t.iloc[0][0][118:119]\n",
    "FHISP_R=t.iloc[0][0][118:119]\n",
    "F_FHISP=t.iloc[0][0][118:119]\n",
    "FRACEHISP=t.iloc[0][0][118:119]\n",
    "FEDUC=t.iloc[0][0][118:119]\n",
    "FILLER=t.iloc[0][0][118:119]\n",
    "F_FEDUC=t.iloc[0][0][118:119]\n",
    "FILLER_F=t.iloc[0][0][118:119]\n",
    "PRIORLIVE=t.iloc[0][0][118:119]\n",
    "PRIORDEAD=t.iloc[0][0][118:119]\n",
    "PRIORTERM=t.iloc[0][0][118:119]\n",
    "FILLER=t.iloc[0][0][118:119]\n",
    "LBO_REC=t.iloc[0][0][118:119]\n",
    "FILLER=t.iloc[0][0][118:119]\n",
    "TBO_REC=t.iloc[0][0][118:119]\n",
    "FILLER=t.iloc[0][0][118:119]\n",
    "ILLB_R=t.iloc[0][0][118:119]\n",
    "ILLB_R11=t.iloc[0][0][118:119]\n",
    "FILLER=t.iloc[0][0][118:119]\n",
    "ILOP_R=t.iloc[0][0][118:119]\n",
    "ILOP_R11=t.iloc[0][0][118:119]\n",
    "FILLER_P=t.iloc[0][0][118:119]\n",
    "PRECARE=t.iloc[0][0][118:119]\n",
    "F_MPCB=t.iloc[0][0][118:119]\n",
    "PRECARE5=t.iloc[0][0][118:119]\n",
    "FILLER=t.iloc[0][0][118:119]\n",
    "PREVIS=t.iloc[0][0][118:119]\n",
    "FILLER=t.iloc[0][0][118:119]\n",
    "PREVIS_REC=t.iloc[0][0][118:119]\n",
    "F_TPCV=t.iloc[0][0][118:119]\n",
    "FILLER=t.iloc[0][0][118:119]\n",
    "WIC=t.iloc[0][0][118:119]\n",
    "F_WIC=t.iloc[0][0][118:119]\n",
    "CIG_0=t.iloc[0][0][118:119]\n",
    "CIG_1=t.iloc[0][0][118:119]\n",
    "CIG_2=t.iloc[0][0][118:119]\n",
    "CIG_3=t.iloc[0][0][118:119]\n",
    "CIG0_R<-substr(birth[1,],15,18)\n",
    "CIG1_R<-substr(birth[1,],15,18)\n",
    "CIG2_R<-substr(birth[1,],15,18)\n",
    "CIG3_R<-substr(birth[1,],15,18)\n",
    "F_CIGS_0<-substr(birth[1,],15,18)\n",
    "F_CIGS_1<-substr(birth[1,],15,18)\n",
    "F_CIGS_2<-substr(birth[1,],15,18)\n",
    "F_CIGS_3<-substr(birth[1,],15,18)\n",
    "CIGS_REC<-substr(birth[1,],15,18)\n",
    "F_TOBACCO<-substr(birth[1,],15,18)\n",
    "FILLER_R<-substr(birth[1,],15,18)\n",
    "M_Ht_In<-substr(birth[1,],15,18)\n",
    "F_M_HT<-substr(birth[1,],15,18)\n",
    "BMI<-substr(birth[1,],15,18)\n",
    "BMI_R<-substr(birth[1,],15,18)\n",
    "FILLER<-substr(birth[1,],15,18)\n",
    "PWgt_R<-substr(birth[1,],15,18)\n",
    "F_PWGT<-substr(birth[1,],15,18)\n",
    "FILLER<-substr(birth[1,],15,18)\n",
    "DWgt_R<-substr(birth[1,],15,18)\n",
    "FILLER<-substr(birth[1,],15,18)\n",
    "F_DWGT<-substr(birth[1,],15,18)\n",
    "WTGAIN<-substr(birth[1,],15,18)\n",
    "WTGAIN_REC<-substr(birth[1,],15,18)\n",
    "F_WTGAIN<-substr(birth[1,],15,18)\n",
    "FILLER_W<-substr(birth[1,],15,18)\n",
    "RF_PDIAB<-substr(birth[1,],15,18)\n",
    "RF_GDIAB<-substr(birth[1,],15,18)\n",
    "RF_PHYPE<-substr(birth[1,],15,18)\n",
    "RF_GHYPE<-substr(birth[1,],15,18)\n",
    "RF_EHYPE<-substr(birth[1,],15,18)\n",
    "RF_PPTERM<-substr(birth[1,],15,18)\n",
    "F_RF_PDIAB<-substr(birth[1,],15,18)\n",
    "F_RF_GDIAB<-substr(birth[1,],15,18)\n",
    "F_RF_PHYPER<-substr(birth[1,],15,18)\n",
    "F_RF_GHYPER<-substr(birth[1,],15,18)\n",
    "F_RF_ECLAMP<-substr(birth[1,],15,18)\n",
    "F_RF_PPB<-substr(birth[1,],15,18)\n",
    "RF_INFTR<-substr(birth[1,],15,18)\n",
    "RF_FEDRG<-substr(birth[1,],15,18)\n",
    "RF_ARTEC<-substr(birth[1,],15,18)\n",
    "FILLER<-substr(birth[1,],15,18)\n",
    "F_RF_INF_DRG<-substr(birth[1,],15,18)\n",
    "F_RF_INF_ART<-substr(birth[1,],15,18)\n",
    "RF_CESAR<-substr(birth[1,],15,18)\n",
    "RF_CESARN<-substr(birth[1,],15,18)\n",
    "FILLER<-substr(birth[1,],15,18)\n",
    "F_RF_CESAR<-substr(birth[1,],15,18)\n",
    "F_RF_NCESAR<-substr(birth[1,],15,18)\n",
    "NO_RISKS<-substr(birth[1,],15,18)\n",
    "FILLER_RF<-substr(birth[1,],15,18)\n",
    "IP_GON<-substr(birth[1,],15,18)\n",
    "IP_SYPH<-substr(birth[1,],15,18)\n",
    "IP_CHLAM<-substr(birth[1,],15,18)\n",
    "IP_HEPB<-substr(birth[1,],15,18)\n",
    "IP_HEPC<-substr(birth[1,],15,18)\n",
    "F_IP_GONOR<-substr(birth[1,],15,18)\n",
    "F_IP_SYPH<-substr(birth[1,],15,18)\n",
    "F_IP_CHLAM<-substr(birth[1,],15,18)\n",
    "F_IP_HEPATB<-substr(birth[1,],15,18)\n",
    "F_IP_HEPATC<-substr(birth[1,],15,18)\n",
    "NO_INFEC<-substr(birth[1,],15,18)\n",
    "FILLER_IP<-substr(birth[1,],15,18)\n",
    "FILLER<-substr(birth[1,],15,18)\n",
    "OB_ECVS<-substr(birth[1,],15,18)\n",
    "OB_ECVF<-substr(birth[1,],15,18)\n",
    "FILLER<-substr(birth[1,],15,18)\n",
    "F_OB_SUCC<-substr(birth[1,],15,18)\n",
    "F_OB_FAIL<-substr(birth[1,],15,18)\n",
    "FILLER_OB<-substr(birth[1,],15,18)\n",
    "LD_INDL<-substr(birth[1,],15,18)\n",
    "LD_AUGM<-substr(birth[1,],15,18)\n",
    "LD_STER<-substr(birth[1,],15,18)\n",
    "LD_ANTB<-substr(birth[1,],15,18)\n",
    "LD_CHOR<-substr(birth[1,],15,18)\n",
    "LD_ANES<-substr(birth[1,],15,18)\n",
    "F_LD_INDL<-substr(birth[1,],15,18)\n",
    "F_LD_AUGM<-substr(birth[1,],15,18)\n",
    "F_LD_STER<-substr(birth[1,],15,18)\n",
    "F_LD_ANTB<-substr(birth[1,],15,18)\n",
    "F_LD_CHOR<-substr(birth[1,],15,18)\n",
    "F_LD_ANES<-substr(birth[1,],15,18)\n",
    "NO_LBRDLV<-substr(birth[1,],15,18)\n",
    "FILLER_LD<-substr(birth[1,],15,18)\n",
    "ME_PRES<-substr(birth[1,],15,18)\n",
    "ME_ROUT<-substr(birth[1,],15,18)\n",
    "ME_TRIAL<-substr(birth[1,],15,18)\n",
    "F_ME_PRES<-substr(birth[1,],15,18)\n",
    "F_ME_ROUT<-substr(birth[1,],15,18)\n",
    "F_ME_TRIAL<-substr(birth[1,],15,18)\n",
    "RDMETH_REC<-substr(birth[1,],15,18)\n",
    "DMETH_REC<-substr(birth[1,],15,18)\n",
    "F_DMETH_REC<-substr(birth[1,],15,18)\n",
    "FILLER_ME<-substr(birth[1,],15,18)\n",
    "MM_MTR<-substr(birth[1,],15,18)\n",
    "MM_PLAC<-substr(birth[1,],15,18)\n",
    "MM_RUPT<-substr(birth[1,],15,18)\n",
    "MM_UHYST<-substr(birth[1,],15,18)\n",
    "MM_AICU<-substr(birth[1,],15,18)\n",
    "FILLER<-substr(birth[1,],15,18)\n",
    "FF_MM_MTR<-substr(birth[1,],15,18)\n",
    "FF_MM_PLAC<-substr(birth[1,],15,18)\n",
    "FF_MM_RUPT<-substr(birth[1,],15,18)\n",
    "FF_MM_UHYST<-substr(birth[1,],15,18)\n",
    "FF_MM_AICU<-substr(birth[1,],15,18)\n",
    "FILLER<-substr(birth[1,],15,18)\n",
    "NO_MMORB<-substr(birth[1,],15,18)\n",
    "FILLER_MM<-substr(birth[1,],15,18)\n",
    "ATTEND<-substr(birth[1,],15,18)\n",
    "MTRAN<-substr(birth[1,],15,18)\n",
    "PAY<-substr(birth[1,],15,18)\n",
    "PAY_REC<-substr(birth[1,],15,18)\n",
    "F_PAY<-substr(birth[1,],15,18)\n",
    "F_PAY_REC<-substr(birth[1,],15,18)\n",
    "FILLER_A<-substr(birth[1,],15,18)\n",
    "APGAR5<-substr(birth[1,],15,18)\n",
    "F_APGAR5<-substr(birth[1,],15,18)\n",
    "APGAR10<-substr(birth[1,],15,18)\n",
    "APGAR10R<-substr(birth[1,],15,18)\n",
    "FILLER<-substr(birth[1,],15,18)\n",
    "DIPLURAL<-substr(birth[1,],15,18)\n",
    "FILLER<-substr(birth[1,],15,18)\n",
    "IMP_PLUR<-substr(birth[1,],15,18)\n",
    "FILLER<-substr(birth[1,],15,18)\n",
    "SETORDER_R<-substr(birth[1,],15,18)\n",
    "FILLER<-substr(birth[1,],15,18)\n",
    "SEX<-substr(birth[1,],15,18)\n",
    "IMP_SEX<-substr(birth[1,],15,18)\n",
    "DLMP_MM<-substr(birth[1,],15,18)\n",
    "FILLER<-substr(birth[1,],15,18)\n",
    "DLMP_YY<-substr(birth[1,],15,18)\n",
    "FILLER<-substr(birth[1,],15,18)\n",
    "COMPGST_IMP<-substr(birth[1,],15,18)\n",
    "OBGEST_FLG<-substr(birth[1,],15,18)\n",
    "COMBGEST<-substr(birth[1,],15,18)\n",
    "GESTREC10<-substr(birth[1,],15,18)\n",
    "GESTREC3<-substr(birth[1,],15,18)\n",
    "FILLER<-substr(birth[1,],15,18)\n",
    "LMPUSED<-substr(birth[1,],15,18)\n",
    "OEGest_R10<-substr(birth[1,],15,18)\n",
    "OBGest_R3<-substr(birth[1,],15,18)\n",
    "DBWT<-substr(birth[1,],15,18)\n",
    "FILLER<-substr(birth[1,],15,18)\n",
    "BWTR12<-substr(birth[1,],15,18)\n",
    "BWTR4<-substr(birth[1,],15,18)\n",
    "FILLER_G<-substr(birth[1,],15,18)\n",
    "AB_AVEN1<-substr(birth[1,],15,18)\n",
    "AB_AVEN6<-substr(birth[1,],15,18)\n",
    "AB_NICU<-substr(birth[1,],15,18)\n",
    "AB_SURF<-substr(birth[1,],15,18)\n",
    "AB_ANTI<-substr(birth[1,],15,18)\n",
    "AB_SEIZ<-substr(birth[1,],15,18)\n",
    "FILLER<-substr(birth[1,],15,18)\n",
    "F_AB_VENT<-substr(birth[1,],15,18)\n",
    "F_AB_VENT6<-substr(birth[1,],15,18)\n",
    "F_AB_NIUC<-substr(birth[1,],15,18)\n",
    "F_AB_SURFAC<-substr(birth[1,],15,18)\n",
    "F_AB_ANTIBIO<-substr(birth[1,],15,18)\n",
    "F_AB_SEIZ<-substr(birth[1,],15,18)\n",
    "FILLER<-substr(birth[1,],15,18)\n",
    "NO_ABNOR<-substr(birth[1,],15,18)\n",
    "FILLER_AB<-substr(birth[1,],15,18)\n",
    "CA_ANEN<-substr(birth[1,],15,18)\n",
    "CA_MNSB<-substr(birth[1,],15,18)\n",
    "CA_CCHD<-substr(birth[1,],15,18)\n",
    "CA_CDH<-substr(birth[1,],15,18)\n",
    "CA_OMPH<-substr(birth[1,],15,18)\n",
    "CA_GAST<-substr(birth[1,],15,18)\n",
    "F_CA_ANEN<-substr(birth[1,],15,18)\n",
    "F_CA_MENIN<-substr(birth[1,],15,18)\n",
    "F_CA_HEART<-substr(birth[1,],15,18)\n",
    "F_CA_HERNIA<-substr(birth[1,],15,18)\n",
    "F_CA_OMPHA<-substr(birth[1,],15,18)\n",
    "F_CA_GASTRO<-substr(birth[1,],15,18)\n",
    "CA_LIMB<-substr(birth[1,],15,18)\n",
    "CA_CLEFT<-substr(birth[1,],15,18)\n",
    "CA_CLPAL<-substr(birth[1,],15,18)\n",
    "CA_DOWN<-substr(birth[1,],15,18)\n",
    "CA_DISOR<-substr(birth[1,],15,18)\n",
    "CA_HYPO<-substr(birth[1,],15,18)\n",
    "F_CA_LIMB<-substr(birth[1,],15,18)\n",
    "F_CA_CLEFTCP<-substr(birth[1,],15,18)\n",
    "F_CA_CLEFT<-substr(birth[1,],15,18)\n",
    "F_CA_DOWNS<-substr(birth[1,],15,18)\n",
    "F_CA_CHROM<-substr(birth[1,],15,18)\n",
    "F_CA_HYPOS<-substr(birth[1,],15,18)\n",
    "NO_COGEN<-substr(birth[1,],15,18)\n",
    "FILLER_CA<-substr(birth[1,],15,18)\n",
    "ITRAN<-substr(birth[1,],15,18)\n",
    "ILIVE<-substr(birth[1,],15,18)\n",
    "BFED<-substr(birth[1,],15,18)\n",
    "F_BFED<-substr(birth[1,],15,18)\n",
    "FILLER_X<-substr(birth[1,],15,18)\n",
    "UBFACIL<-substr(birth[1,],15,18)\n",
    "URF_DIAB<-substr(birth[1,],15,18)\n",
    "URF_CHYPER<-substr(birth[1,],15,18)\n",
    "URF_PHYPER<-substr(birth[1,],15,18)\n",
    "URF_ECLAM<-substr(birth[1,],15,18) \n",
    "UME_FORCP<-substr(birth[1,],15,18)\n",
    "UME_VAC<-substr(birth[1,],15,18)\n",
    "UOP_INDUC<-substr(birth[1,],15,18)\n",
    "ULD_BREECH<-substr(birth[1,],15,18)\n",
    "FILLER<-substr(birth[1,],15,18)\n",
    "UCA_ANEN<-substr(birth[1,],15,18)\n",
    "UCA_SPINA<-substr(birth[1,],15,18)\n",
    "UCA_OMPHA<-substr(birth[1,],15,18)\n",
    "UCA_CLEFTLP<-substr(birth[1,],15,18)\n",
    "UCA_HERNIA<-substr(birth[1,],15,18)\n",
    "UCA_DOWNS<-substr(birth[1,],1345,1346)\n",
    "\n",
    "\n",
    "\"\"\"\n",
    "print(\"DOB_YY\",DOB_YY)\n",
    "print(\"DOB_MM\",DOB_MM)\n",
    "print(\"FILLER\",len(FILLER))\n",
    "\n",
    "#filler=substr(birth[1,],1,8)\n",
    "#filler\n",
    "#DOB_YY<-substr(birth[1,],9,12)\n",
    "#DOB_MM<-substr(birth[1,],13,14)\n",
    "#FILLER<-substr(birth[1,],15,18)"
   ]
  },
  {
   "cell_type": "code",
   "execution_count": 52,
   "id": "f937502d",
   "metadata": {},
   "outputs": [
    {
     "data": {
      "text/plain": [
       "(3998174, 1)"
      ]
     },
     "execution_count": 52,
     "metadata": {},
     "output_type": "execute_result"
    }
   ],
   "source": [
    "t.shape"
   ]
  },
  {
   "cell_type": "code",
   "execution_count": 53,
   "id": "c88848a6",
   "metadata": {},
   "outputs": [
    {
     "data": {
      "text/plain": [
       "(3998174, 1)"
      ]
     },
     "execution_count": 53,
     "metadata": {},
     "output_type": "execute_result"
    }
   ],
   "source": [
    "n=t.to_numpy()\n",
    "n.shape"
   ]
  },
  {
   "cell_type": "code",
   "execution_count": 55,
   "id": "1f6f91d9",
   "metadata": {},
   "outputs": [
    {
     "name": "stdout",
     "output_type": "stream",
     "text": [
      "elapsed time: 0.07496426304181417\n"
     ]
    }
   ],
   "source": [
    "import time\n",
    "time_start = time.time()\n",
    "\n",
    "DOB_YY = t.apply(lambda row : row[0:12])\n",
    "time_end = time.time()\n",
    "print(\"elapsed time:\",(time_end-time_start)/60.)\n",
    "#list comprehension\n"
   ]
  },
  {
   "cell_type": "code",
   "execution_count": 81,
   "id": "25483162",
   "metadata": {},
   "outputs": [
    {
     "name": "stdout",
     "output_type": "stream",
     "text": [
      "['a', 'a', 'a', 'a', 'a']\n",
      "['b', 'b', 'b', 'b', 'b']\n",
      "['c', 'c', 'c', 'c', 'c']\n"
     ]
    },
    {
     "data": {
      "text/plain": [
       "0    None\n",
       "1    None\n",
       "2    None\n",
       "dtype: object"
      ]
     },
     "execution_count": 81,
     "metadata": {},
     "output_type": "execute_result"
    }
   ],
   "source": [
    "#lesson debug each step stack overflow wrong\n",
    "#1) df_string.apply(lambda x: print(x),axis=1)\n",
    "#2) df_string.apply(lambda x: print(x[0]),axis=1)\n",
    "#3) df_string.apply(lambda x: print(list(x)),axis=1)\n",
    "df_string.apply(lambda x: print(list(x[0])),axis=1)\n"
   ]
  },
  {
   "cell_type": "code",
   "execution_count": 85,
   "id": "71c8404a",
   "metadata": {},
   "outputs": [
    {
     "data": {
      "text/html": [
       "<div>\n",
       "<style scoped>\n",
       "    .dataframe tbody tr th:only-of-type {\n",
       "        vertical-align: middle;\n",
       "    }\n",
       "\n",
       "    .dataframe tbody tr th {\n",
       "        vertical-align: top;\n",
       "    }\n",
       "\n",
       "    .dataframe thead th {\n",
       "        text-align: right;\n",
       "    }\n",
       "</style>\n",
       "<table border=\"1\" class=\"dataframe\">\n",
       "  <thead>\n",
       "    <tr style=\"text-align: right;\">\n",
       "      <th></th>\n",
       "      <th>0</th>\n",
       "      <th>1</th>\n",
       "      <th>2</th>\n",
       "      <th>3</th>\n",
       "      <th>4</th>\n",
       "    </tr>\n",
       "  </thead>\n",
       "  <tbody>\n",
       "    <tr>\n",
       "      <th>0</th>\n",
       "      <td>a</td>\n",
       "      <td>a</td>\n",
       "      <td>a</td>\n",
       "      <td>a</td>\n",
       "      <td>a</td>\n",
       "    </tr>\n",
       "    <tr>\n",
       "      <th>1</th>\n",
       "      <td>b</td>\n",
       "      <td>b</td>\n",
       "      <td>b</td>\n",
       "      <td>b</td>\n",
       "      <td>b</td>\n",
       "    </tr>\n",
       "    <tr>\n",
       "      <th>2</th>\n",
       "      <td>c</td>\n",
       "      <td>c</td>\n",
       "      <td>c</td>\n",
       "      <td>c</td>\n",
       "      <td>c</td>\n",
       "    </tr>\n",
       "  </tbody>\n",
       "</table>\n",
       "</div>"
      ],
      "text/plain": [
       "   0  1  2  3  4\n",
       "0  a  a  a  a  a\n",
       "1  b  b  b  b  b\n",
       "2  c  c  c  c  c"
      ]
     },
     "execution_count": 85,
     "metadata": {},
     "output_type": "execute_result"
    }
   ],
   "source": [
    "test=df_string.apply(lambda x: pd.Series(list(x[0])),axis=1)\n",
    "test"
   ]
  },
  {
   "cell_type": "code",
   "execution_count": null,
   "id": "e2c12f32",
   "metadata": {},
   "outputs": [],
   "source": [
    "t_big = t.apply(lambda x: pd.Series(list(x[0])),axis=1)\n",
    "t_big.shape\n",
    "#too big, kernel restart\n",
    "#"
   ]
  },
  {
   "cell_type": "code",
   "execution_count": 4,
   "id": "4253c9ac",
   "metadata": {},
   "outputs": [
    {
     "ename": "NameError",
     "evalue": "name 't' is not defined",
     "output_type": "error",
     "traceback": [
      "\u001b[0;31m---------------------------------------------------------------------------\u001b[0m",
      "\u001b[0;31mNameError\u001b[0m                                 Traceback (most recent call last)",
      "Cell \u001b[0;32mIn[4], line 1\u001b[0m\n\u001b[0;32m----> 1\u001b[0m \u001b[43mt\u001b[49m\u001b[38;5;241m.\u001b[39mhead()\n",
      "\u001b[0;31mNameError\u001b[0m: name 't' is not defined"
     ]
    }
   ],
   "source": [
    "t.head()"
   ]
  },
  {
   "cell_type": "code",
   "execution_count": 68,
   "id": "7656c607",
   "metadata": {},
   "outputs": [
    {
     "name": "stdout",
     "output_type": "stream",
     "text": [
      "8             201401    04047        11             ...\n",
      "9             201401    07171        11             ...\n",
      "10            201401    10185        11             ...\n",
      "11            201401    16235        11             ...\n",
      "Name:         201401    04214        11                1                        29094    1                   1011011    011 X1  17 1                    3506011011   0114 1     010000  2  2               03204   88888   03204     0311          09  061      N10000000000001111N1         99199.99    9991   213 19991     NNNYNN111111NXX111N00 1101    NNNNN111111      NN 11                  YNNNNN1111110     11X111111     NNNNN 11111 1     1N5411     0941885   1    9               F 04  2013     39072    390723200 073     NNNNNN 111111 1     NNNNNN111111NNNNNN1111111     NYY1                                                                                                                                                                                                                                                                                                                                                                                                                                                                                                                                                                                                                                                                                                                                                                                       122122212 222222, dtype: object\n"
     ]
    }
   ],
   "source": [
    "#convert into 1335 column array and combine columns. Is this faster? \n",
    "\n",
    "test=t.apply(lambda x: print(x[8:12]))"
   ]
  },
  {
   "cell_type": "code",
   "execution_count": 69,
   "id": "f520beaa",
   "metadata": {},
   "outputs": [
    {
     "data": {
      "text/plain": [
       "(1,)"
      ]
     },
     "execution_count": 69,
     "metadata": {},
     "output_type": "execute_result"
    }
   ],
   "source": [
    "type(test)\n",
    "test.shape"
   ]
  },
  {
   "cell_type": "code",
   "execution_count": null,
   "id": "5f80c76b",
   "metadata": {},
   "outputs": [],
   "source": [
    "https://stackoverflow.com/questions/65115768/python-modified-groupby-ngroup-in-cudf-with-list-comprehension"
   ]
  }
 ],
 "metadata": {
  "kernelspec": {
   "display_name": "Python 3 (ipykernel)",
   "language": "python",
   "name": "python3"
  },
  "language_info": {
   "codemirror_mode": {
    "name": "ipython",
    "version": 3
   },
   "file_extension": ".py",
   "mimetype": "text/x-python",
   "name": "python",
   "nbconvert_exporter": "python",
   "pygments_lexer": "ipython3",
   "version": "3.8.16"
  }
 },
 "nbformat": 4,
 "nbformat_minor": 5
}
