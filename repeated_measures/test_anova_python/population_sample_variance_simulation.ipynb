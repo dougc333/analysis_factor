{
 "cells": [
  {
   "cell_type": "code",
   "execution_count": null,
   "id": "95f499da",
   "metadata": {},
   "outputs": [],
   "source": [
    "#https://math.stackexchange.com/questions/3270153/is-sample-variance-always-less-than-or-equal-to-population-variance#:~:text=The%20article%20says%20that%20sample,calculated%20using%20the%20sample%20mean.\n",
    "#a qq plot vs KS test ,vs skew and kurtosis test. Are all these equivalent for normality tests? \n",
    "#probably not. \n",
    "\n",
    "#QQPlot for normality of residuals, KSTest, Kurtosis, Skewness for normality. Do we run all these tests?  \n",
    "#residual plot for constant variances. Revisit this. \n",
    "\n"
   ]
  }
 ],
 "metadata": {
  "kernelspec": {
   "display_name": "Python 3 (ipykernel)",
   "language": "python",
   "name": "python3"
  },
  "language_info": {
   "codemirror_mode": {
    "name": "ipython",
    "version": 3
   },
   "file_extension": ".py",
   "mimetype": "text/x-python",
   "name": "python",
   "nbconvert_exporter": "python",
   "pygments_lexer": "ipython3",
   "version": "3.10.0"
  }
 },
 "nbformat": 4,
 "nbformat_minor": 5
}
