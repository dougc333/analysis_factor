{
 "cells": [
  {
   "cell_type": "code",
   "execution_count": null,
   "id": "9f0cbcae",
   "metadata": {},
   "outputs": [],
   "source": [
    "import pandas as pd\n",
    "demo  = pd.read_csv(\"/Users/dc/test_stuff/analysis_factor/RapleafCompetition-master/data/demographics.tsv\", sep=\"\\t\")\n",
    "train = pd.read_csv(\"/Users/dc/test_stuff/analysis_factor/RapleafCompetition-master/data/training.csv\")"
   ]
  }
 ],
 "metadata": {
  "kernelspec": {
   "display_name": "Python 3 (ipykernel)",
   "language": "python",
   "name": "python3"
  },
  "language_info": {
   "codemirror_mode": {
    "name": "ipython",
    "version": 3
   },
   "file_extension": ".py",
   "mimetype": "text/x-python",
   "name": "python",
   "nbconvert_exporter": "python",
   "pygments_lexer": "ipython3",
   "version": "3.8.16"
  }
 },
 "nbformat": 4,
 "nbformat_minor": 5
}
