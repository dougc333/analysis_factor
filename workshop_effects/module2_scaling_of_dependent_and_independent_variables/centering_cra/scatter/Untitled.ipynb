{
 "cells": [
  {
   "cell_type": "code",
   "execution_count": 3,
   "id": "81fab22e-db2b-4186-ab3c-c3bf436d17f8",
   "metadata": {},
   "outputs": [],
   "source": [
    "import pandas as pd\n"
   ]
  },
  {
   "cell_type": "code",
   "execution_count": 11,
   "id": "61952a29-95d7-4477-9a4f-4c352dca2953",
   "metadata": {},
   "outputs": [],
   "source": [
    "df = pd.read_csv(\"./public/NLSY.csv\")\n",
    "df_mcs2000 = df[df['MCS2000'].notna()]\n",
    "df_mcs2000\n",
    "df_mcs2000_pcs2000 = df_mcs2000[[\"PCS2000\", \"MCS2000\"]]\n",
    "df_mcs2000_pcs2000.to_csv(\"pcs2000_mcs2000.csv\")"
   ]
  },
  {
   "cell_type": "code",
   "execution_count": null,
   "id": "d2c4f908-2d0c-4e2d-8f1f-e1f95dce03a8",
   "metadata": {},
   "outputs": [],
   "source": []
  },
  {
   "cell_type": "code",
   "execution_count": null,
   "id": "2fa55fd8-97a3-41ca-b90f-33558d81a5f6",
   "metadata": {},
   "outputs": [],
   "source": []
  }
 ],
 "metadata": {
  "kernelspec": {
   "display_name": "Python 3 (ipykernel)",
   "language": "python",
   "name": "python3"
  },
  "language_info": {
   "codemirror_mode": {
    "name": "ipython",
    "version": 3
   },
   "file_extension": ".py",
   "mimetype": "text/x-python",
   "name": "python",
   "nbconvert_exporter": "python",
   "pygments_lexer": "ipython3",
   "version": "3.8.18"
  }
 },
 "nbformat": 4,
 "nbformat_minor": 5
}
