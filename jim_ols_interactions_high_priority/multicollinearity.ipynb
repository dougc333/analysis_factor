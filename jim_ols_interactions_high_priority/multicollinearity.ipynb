{
 "cells": [
  {
   "cell_type": "code",
   "execution_count": null,
   "id": "23c390be",
   "metadata": {},
   "outputs": [],
   "source": [
    "#there are 2 ways to solve the regression equation, least squares with gradient descent or taking derivative\n",
    "#setting to 0 and inverting matrix. The matrix may not be invertible if there are linearly dependent rows or columns in the matrix? \n",
    "#this linear dependence is called multicollinearity and there are solutions to solve this. \n",
    "\n",
    "\n"
   ]
  }
 ],
 "metadata": {
  "kernelspec": {
   "display_name": "Python 3 (ipykernel)",
   "language": "python",
   "name": "python3"
  },
  "language_info": {
   "codemirror_mode": {
    "name": "ipython",
    "version": 3
   },
   "file_extension": ".py",
   "mimetype": "text/x-python",
   "name": "python",
   "nbconvert_exporter": "python",
   "pygments_lexer": "ipython3",
   "version": "3.9.10"
  }
 },
 "nbformat": 4,
 "nbformat_minor": 5
}
