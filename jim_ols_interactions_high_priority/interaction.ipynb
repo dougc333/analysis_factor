{
 "cells": [
  {
   "cell_type": "code",
   "execution_count": null,
   "id": "9ca80ccb",
   "metadata": {},
   "outputs": [],
   "source": [
    "#how are interactions related to heterodascity?\n",
    "\n",
    "#interactions example\n",
    "#an interactions occurs when a feature variable combined with another feature variable has a bigger effect \n",
    "#on the response than either one individually\n",
    "\n",
    "y~a1X+a2X is not as good a fit as y~a1X+a2X+a1*a2X\n",
    "\n",
    "https://www.medicine.mcgill.ca/epidemiology/joseph/courses/EPIB-621/interaction.pdf\n",
    "http://www.sthda.com/english/articles/40-regression-analysis/164-interaction-effect-in-multiple-regression-essentials/"
   ]
  },
  {
   "cell_type": "code",
   "execution_count": null,
   "id": "35269b49",
   "metadata": {},
   "outputs": [],
   "source": [
    "#submodels for subpopulations in categorical variables\n",
    "https://stats.stackexchange.com/questions/493425/linear-regression-with-2-different-categorical-variables\n",
    "    https://analystprep.com/study-notes/frm/part-1/quantitative-analysis/hypothesis-tests-and-confidence-intervals-in-multiple-regression/\n",
    "        \n",
    "    "
   ]
  }
 ],
 "metadata": {
  "kernelspec": {
   "display_name": "Python 3 (ipykernel)",
   "language": "python",
   "name": "python3"
  },
  "language_info": {
   "codemirror_mode": {
    "name": "ipython",
    "version": 3
   },
   "file_extension": ".py",
   "mimetype": "text/x-python",
   "name": "python",
   "nbconvert_exporter": "python",
   "pygments_lexer": "ipython3",
   "version": "3.9.10"
  }
 },
 "nbformat": 4,
 "nbformat_minor": 5
}
