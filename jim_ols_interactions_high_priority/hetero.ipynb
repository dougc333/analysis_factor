{
 "cells": [
  {
   "cell_type": "code",
   "execution_count": null,
   "id": "61f5ae41",
   "metadata": {},
   "outputs": [],
   "source": [
    "#heterodascity OLS assumes the population has constant variance. This isnt usually true if there are subpopulations\n",
    "#which would have different variances\n",
    "\n",
    "\n",
    "\n"
   ]
  },
  {
   "cell_type": "code",
   "execution_count": null,
   "id": "d02187e0",
   "metadata": {},
   "outputs": [],
   "source": [
    "#Breusch-Pagan test\n",
    "\n"
   ]
  }
 ],
 "metadata": {
  "kernelspec": {
   "display_name": "Python 3 (ipykernel)",
   "language": "python",
   "name": "python3"
  },
  "language_info": {
   "codemirror_mode": {
    "name": "ipython",
    "version": 3
   },
   "file_extension": ".py",
   "mimetype": "text/x-python",
   "name": "python",
   "nbconvert_exporter": "python",
   "pygments_lexer": "ipython3",
   "version": "3.9.10"
  }
 },
 "nbformat": 4,
 "nbformat_minor": 5
}
