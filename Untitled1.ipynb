{
 "cells": [
  {
   "cell_type": "code",
   "execution_count": null,
   "id": "139be966",
   "metadata": {},
   "outputs": [],
   "source": [
    "birth<-read.csv(\"/Users/dc/test_stuff/analysis_factor/datasets_irc_workshop/BIRTH.csv\")\n"
   ]
  },
  {
   "cell_type": "code",
   "execution_count": null,
   "id": "ebc2ea10",
   "metadata": {},
   "outputs": [],
   "source": [
    "birth"
   ]
  },
  {
   "cell_type": "code",
   "execution_count": null,
   "id": "3f4b0e71",
   "metadata": {},
   "outputs": [],
   "source": []
  }
 ],
 "metadata": {
  "kernelspec": {
   "display_name": "R",
   "language": "R",
   "name": "ir"
  }
 },
 "nbformat": 4,
 "nbformat_minor": 5
}
